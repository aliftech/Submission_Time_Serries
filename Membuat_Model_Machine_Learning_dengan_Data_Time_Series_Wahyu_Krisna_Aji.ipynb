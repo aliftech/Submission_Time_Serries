{
  "nbformat": 4,
  "nbformat_minor": 0,
  "metadata": {
    "colab": {
      "provenance": []
    },
    "kernelspec": {
      "name": "python3",
      "display_name": "Python 3"
    },
    "language_info": {
      "name": "python"
    }
  },
  "cells": [
    {
      "cell_type": "markdown",
      "source": [
        "Nama: Wahyu Krisna Aji\n",
        "\n",
        "Dataset: Apple Stock Price from 1980-2021\n",
        "\n",
        "Source of Dataset: Kaggle\n",
        "\n",
        "Link Dataset: https://www.kaggle.com/datasets/meetnagadia/apple-stock-price-from-19802021"
      ],
      "metadata": {
        "id": "EVBM6sW4z3fB"
      }
    },
    {
      "cell_type": "code",
      "execution_count": 63,
      "metadata": {
        "id": "37l8dH4jzu8t"
      },
      "outputs": [],
      "source": [
        "import numpy as np\n",
        "import pandas as pd\n",
        "from keras.layers import Dense, LSTM\n",
        "import matplotlib.pyplot as plt\n",
        "import tensorflow as tf\n",
        "from sklearn.model_selection import train_test_split"
      ]
    },
    {
      "cell_type": "code",
      "source": [
        "data = pd.read_csv('AAPL.csv')\n",
        "data"
      ],
      "metadata": {
        "colab": {
          "base_uri": "https://localhost:8080/",
          "height": 423
        },
        "id": "h-uoj8CA0qVN",
        "outputId": "57112e10-0d24-4baa-a114-ba3168332e73"
      },
      "execution_count": 64,
      "outputs": [
        {
          "output_type": "execute_result",
          "data": {
            "text/plain": [
              "             Date   Open   High    Low  Close  Adj Close     Volume\n",
              "0      1980-12-12   0.13   0.13   0.13   0.13       0.10  469033600\n",
              "1      1980-12-15   0.12   0.12   0.12   0.12       0.09  175884800\n",
              "2      1980-12-16   0.11   0.11   0.11   0.11       0.09  105728000\n",
              "3      1980-12-17   0.12   0.12   0.12   0.12       0.09   86441600\n",
              "4      1980-12-18   0.12   0.12   0.12   0.12       0.09   73449600\n",
              "...           ...    ...    ...    ...    ...        ...        ...\n",
              "10463  2022-06-13 132.87 135.20 131.44 131.88     131.88  122207100\n",
              "10464  2022-06-14 133.13 133.89 131.48 132.76     132.76   84784300\n",
              "10465  2022-06-15 134.29 137.34 132.16 135.43     135.43   91533000\n",
              "10466  2022-06-16 132.08 132.39 129.04 130.06     130.06  108123900\n",
              "10467  2022-06-17 130.07 133.08 129.81 131.56     131.56  134118500\n",
              "\n",
              "[10468 rows x 7 columns]"
            ],
            "text/html": [
              "\n",
              "  <div id=\"df-49e1d298-2573-4df9-bc3d-ce4f8279b57d\">\n",
              "    <div class=\"colab-df-container\">\n",
              "      <div>\n",
              "<style scoped>\n",
              "    .dataframe tbody tr th:only-of-type {\n",
              "        vertical-align: middle;\n",
              "    }\n",
              "\n",
              "    .dataframe tbody tr th {\n",
              "        vertical-align: top;\n",
              "    }\n",
              "\n",
              "    .dataframe thead th {\n",
              "        text-align: right;\n",
              "    }\n",
              "</style>\n",
              "<table border=\"1\" class=\"dataframe\">\n",
              "  <thead>\n",
              "    <tr style=\"text-align: right;\">\n",
              "      <th></th>\n",
              "      <th>Date</th>\n",
              "      <th>Open</th>\n",
              "      <th>High</th>\n",
              "      <th>Low</th>\n",
              "      <th>Close</th>\n",
              "      <th>Adj Close</th>\n",
              "      <th>Volume</th>\n",
              "    </tr>\n",
              "  </thead>\n",
              "  <tbody>\n",
              "    <tr>\n",
              "      <th>0</th>\n",
              "      <td>1980-12-12</td>\n",
              "      <td>0.13</td>\n",
              "      <td>0.13</td>\n",
              "      <td>0.13</td>\n",
              "      <td>0.13</td>\n",
              "      <td>0.10</td>\n",
              "      <td>469033600</td>\n",
              "    </tr>\n",
              "    <tr>\n",
              "      <th>1</th>\n",
              "      <td>1980-12-15</td>\n",
              "      <td>0.12</td>\n",
              "      <td>0.12</td>\n",
              "      <td>0.12</td>\n",
              "      <td>0.12</td>\n",
              "      <td>0.09</td>\n",
              "      <td>175884800</td>\n",
              "    </tr>\n",
              "    <tr>\n",
              "      <th>2</th>\n",
              "      <td>1980-12-16</td>\n",
              "      <td>0.11</td>\n",
              "      <td>0.11</td>\n",
              "      <td>0.11</td>\n",
              "      <td>0.11</td>\n",
              "      <td>0.09</td>\n",
              "      <td>105728000</td>\n",
              "    </tr>\n",
              "    <tr>\n",
              "      <th>3</th>\n",
              "      <td>1980-12-17</td>\n",
              "      <td>0.12</td>\n",
              "      <td>0.12</td>\n",
              "      <td>0.12</td>\n",
              "      <td>0.12</td>\n",
              "      <td>0.09</td>\n",
              "      <td>86441600</td>\n",
              "    </tr>\n",
              "    <tr>\n",
              "      <th>4</th>\n",
              "      <td>1980-12-18</td>\n",
              "      <td>0.12</td>\n",
              "      <td>0.12</td>\n",
              "      <td>0.12</td>\n",
              "      <td>0.12</td>\n",
              "      <td>0.09</td>\n",
              "      <td>73449600</td>\n",
              "    </tr>\n",
              "    <tr>\n",
              "      <th>...</th>\n",
              "      <td>...</td>\n",
              "      <td>...</td>\n",
              "      <td>...</td>\n",
              "      <td>...</td>\n",
              "      <td>...</td>\n",
              "      <td>...</td>\n",
              "      <td>...</td>\n",
              "    </tr>\n",
              "    <tr>\n",
              "      <th>10463</th>\n",
              "      <td>2022-06-13</td>\n",
              "      <td>132.87</td>\n",
              "      <td>135.20</td>\n",
              "      <td>131.44</td>\n",
              "      <td>131.88</td>\n",
              "      <td>131.88</td>\n",
              "      <td>122207100</td>\n",
              "    </tr>\n",
              "    <tr>\n",
              "      <th>10464</th>\n",
              "      <td>2022-06-14</td>\n",
              "      <td>133.13</td>\n",
              "      <td>133.89</td>\n",
              "      <td>131.48</td>\n",
              "      <td>132.76</td>\n",
              "      <td>132.76</td>\n",
              "      <td>84784300</td>\n",
              "    </tr>\n",
              "    <tr>\n",
              "      <th>10465</th>\n",
              "      <td>2022-06-15</td>\n",
              "      <td>134.29</td>\n",
              "      <td>137.34</td>\n",
              "      <td>132.16</td>\n",
              "      <td>135.43</td>\n",
              "      <td>135.43</td>\n",
              "      <td>91533000</td>\n",
              "    </tr>\n",
              "    <tr>\n",
              "      <th>10466</th>\n",
              "      <td>2022-06-16</td>\n",
              "      <td>132.08</td>\n",
              "      <td>132.39</td>\n",
              "      <td>129.04</td>\n",
              "      <td>130.06</td>\n",
              "      <td>130.06</td>\n",
              "      <td>108123900</td>\n",
              "    </tr>\n",
              "    <tr>\n",
              "      <th>10467</th>\n",
              "      <td>2022-06-17</td>\n",
              "      <td>130.07</td>\n",
              "      <td>133.08</td>\n",
              "      <td>129.81</td>\n",
              "      <td>131.56</td>\n",
              "      <td>131.56</td>\n",
              "      <td>134118500</td>\n",
              "    </tr>\n",
              "  </tbody>\n",
              "</table>\n",
              "<p>10468 rows × 7 columns</p>\n",
              "</div>\n",
              "      <button class=\"colab-df-convert\" onclick=\"convertToInteractive('df-49e1d298-2573-4df9-bc3d-ce4f8279b57d')\"\n",
              "              title=\"Convert this dataframe to an interactive table.\"\n",
              "              style=\"display:none;\">\n",
              "        \n",
              "  <svg xmlns=\"http://www.w3.org/2000/svg\" height=\"24px\"viewBox=\"0 0 24 24\"\n",
              "       width=\"24px\">\n",
              "    <path d=\"M0 0h24v24H0V0z\" fill=\"none\"/>\n",
              "    <path d=\"M18.56 5.44l.94 2.06.94-2.06 2.06-.94-2.06-.94-.94-2.06-.94 2.06-2.06.94zm-11 1L8.5 8.5l.94-2.06 2.06-.94-2.06-.94L8.5 2.5l-.94 2.06-2.06.94zm10 10l.94 2.06.94-2.06 2.06-.94-2.06-.94-.94-2.06-.94 2.06-2.06.94z\"/><path d=\"M17.41 7.96l-1.37-1.37c-.4-.4-.92-.59-1.43-.59-.52 0-1.04.2-1.43.59L10.3 9.45l-7.72 7.72c-.78.78-.78 2.05 0 2.83L4 21.41c.39.39.9.59 1.41.59.51 0 1.02-.2 1.41-.59l7.78-7.78 2.81-2.81c.8-.78.8-2.07 0-2.86zM5.41 20L4 18.59l7.72-7.72 1.47 1.35L5.41 20z\"/>\n",
              "  </svg>\n",
              "      </button>\n",
              "      \n",
              "  <style>\n",
              "    .colab-df-container {\n",
              "      display:flex;\n",
              "      flex-wrap:wrap;\n",
              "      gap: 12px;\n",
              "    }\n",
              "\n",
              "    .colab-df-convert {\n",
              "      background-color: #E8F0FE;\n",
              "      border: none;\n",
              "      border-radius: 50%;\n",
              "      cursor: pointer;\n",
              "      display: none;\n",
              "      fill: #1967D2;\n",
              "      height: 32px;\n",
              "      padding: 0 0 0 0;\n",
              "      width: 32px;\n",
              "    }\n",
              "\n",
              "    .colab-df-convert:hover {\n",
              "      background-color: #E2EBFA;\n",
              "      box-shadow: 0px 1px 2px rgba(60, 64, 67, 0.3), 0px 1px 3px 1px rgba(60, 64, 67, 0.15);\n",
              "      fill: #174EA6;\n",
              "    }\n",
              "\n",
              "    [theme=dark] .colab-df-convert {\n",
              "      background-color: #3B4455;\n",
              "      fill: #D2E3FC;\n",
              "    }\n",
              "\n",
              "    [theme=dark] .colab-df-convert:hover {\n",
              "      background-color: #434B5C;\n",
              "      box-shadow: 0px 1px 3px 1px rgba(0, 0, 0, 0.15);\n",
              "      filter: drop-shadow(0px 1px 2px rgba(0, 0, 0, 0.3));\n",
              "      fill: #FFFFFF;\n",
              "    }\n",
              "  </style>\n",
              "\n",
              "      <script>\n",
              "        const buttonEl =\n",
              "          document.querySelector('#df-49e1d298-2573-4df9-bc3d-ce4f8279b57d button.colab-df-convert');\n",
              "        buttonEl.style.display =\n",
              "          google.colab.kernel.accessAllowed ? 'block' : 'none';\n",
              "\n",
              "        async function convertToInteractive(key) {\n",
              "          const element = document.querySelector('#df-49e1d298-2573-4df9-bc3d-ce4f8279b57d');\n",
              "          const dataTable =\n",
              "            await google.colab.kernel.invokeFunction('convertToInteractive',\n",
              "                                                     [key], {});\n",
              "          if (!dataTable) return;\n",
              "\n",
              "          const docLinkHtml = 'Like what you see? Visit the ' +\n",
              "            '<a target=\"_blank\" href=https://colab.research.google.com/notebooks/data_table.ipynb>data table notebook</a>'\n",
              "            + ' to learn more about interactive tables.';\n",
              "          element.innerHTML = '';\n",
              "          dataTable['output_type'] = 'display_data';\n",
              "          await google.colab.output.renderOutput(dataTable, element);\n",
              "          const docLink = document.createElement('div');\n",
              "          docLink.innerHTML = docLinkHtml;\n",
              "          element.appendChild(docLink);\n",
              "        }\n",
              "      </script>\n",
              "    </div>\n",
              "  </div>\n",
              "  "
            ]
          },
          "metadata": {},
          "execution_count": 64
        }
      ]
    },
    {
      "cell_type": "code",
      "source": [
        "data.isnull().sum()"
      ],
      "metadata": {
        "colab": {
          "base_uri": "https://localhost:8080/"
        },
        "id": "V8GTynaT1Awj",
        "outputId": "099447c6-8d7d-449b-87bc-8f3e407b833f"
      },
      "execution_count": 65,
      "outputs": [
        {
          "output_type": "execute_result",
          "data": {
            "text/plain": [
              "Date         0\n",
              "Open         0\n",
              "High         0\n",
              "Low          0\n",
              "Close        0\n",
              "Adj Close    0\n",
              "Volume       0\n",
              "dtype: int64"
            ]
          },
          "metadata": {},
          "execution_count": 65
        }
      ]
    },
    {
      "cell_type": "code",
      "source": [
        "data = data[['Date', 'Close']]"
      ],
      "metadata": {
        "id": "TMNccoS4nkcX"
      },
      "execution_count": 66,
      "outputs": []
    },
    {
      "cell_type": "code",
      "source": [
        "data.head()"
      ],
      "metadata": {
        "colab": {
          "base_uri": "https://localhost:8080/",
          "height": 206
        },
        "id": "8xhuEouVnsOC",
        "outputId": "614e2ac9-d7af-4858-e87b-f22d938ddb3c"
      },
      "execution_count": 67,
      "outputs": [
        {
          "output_type": "execute_result",
          "data": {
            "text/plain": [
              "         Date  Close\n",
              "0  1980-12-12   0.13\n",
              "1  1980-12-15   0.12\n",
              "2  1980-12-16   0.11\n",
              "3  1980-12-17   0.12\n",
              "4  1980-12-18   0.12"
            ],
            "text/html": [
              "\n",
              "  <div id=\"df-078a009d-73eb-4f66-96b5-90feb6e21939\">\n",
              "    <div class=\"colab-df-container\">\n",
              "      <div>\n",
              "<style scoped>\n",
              "    .dataframe tbody tr th:only-of-type {\n",
              "        vertical-align: middle;\n",
              "    }\n",
              "\n",
              "    .dataframe tbody tr th {\n",
              "        vertical-align: top;\n",
              "    }\n",
              "\n",
              "    .dataframe thead th {\n",
              "        text-align: right;\n",
              "    }\n",
              "</style>\n",
              "<table border=\"1\" class=\"dataframe\">\n",
              "  <thead>\n",
              "    <tr style=\"text-align: right;\">\n",
              "      <th></th>\n",
              "      <th>Date</th>\n",
              "      <th>Close</th>\n",
              "    </tr>\n",
              "  </thead>\n",
              "  <tbody>\n",
              "    <tr>\n",
              "      <th>0</th>\n",
              "      <td>1980-12-12</td>\n",
              "      <td>0.13</td>\n",
              "    </tr>\n",
              "    <tr>\n",
              "      <th>1</th>\n",
              "      <td>1980-12-15</td>\n",
              "      <td>0.12</td>\n",
              "    </tr>\n",
              "    <tr>\n",
              "      <th>2</th>\n",
              "      <td>1980-12-16</td>\n",
              "      <td>0.11</td>\n",
              "    </tr>\n",
              "    <tr>\n",
              "      <th>3</th>\n",
              "      <td>1980-12-17</td>\n",
              "      <td>0.12</td>\n",
              "    </tr>\n",
              "    <tr>\n",
              "      <th>4</th>\n",
              "      <td>1980-12-18</td>\n",
              "      <td>0.12</td>\n",
              "    </tr>\n",
              "  </tbody>\n",
              "</table>\n",
              "</div>\n",
              "      <button class=\"colab-df-convert\" onclick=\"convertToInteractive('df-078a009d-73eb-4f66-96b5-90feb6e21939')\"\n",
              "              title=\"Convert this dataframe to an interactive table.\"\n",
              "              style=\"display:none;\">\n",
              "        \n",
              "  <svg xmlns=\"http://www.w3.org/2000/svg\" height=\"24px\"viewBox=\"0 0 24 24\"\n",
              "       width=\"24px\">\n",
              "    <path d=\"M0 0h24v24H0V0z\" fill=\"none\"/>\n",
              "    <path d=\"M18.56 5.44l.94 2.06.94-2.06 2.06-.94-2.06-.94-.94-2.06-.94 2.06-2.06.94zm-11 1L8.5 8.5l.94-2.06 2.06-.94-2.06-.94L8.5 2.5l-.94 2.06-2.06.94zm10 10l.94 2.06.94-2.06 2.06-.94-2.06-.94-.94-2.06-.94 2.06-2.06.94z\"/><path d=\"M17.41 7.96l-1.37-1.37c-.4-.4-.92-.59-1.43-.59-.52 0-1.04.2-1.43.59L10.3 9.45l-7.72 7.72c-.78.78-.78 2.05 0 2.83L4 21.41c.39.39.9.59 1.41.59.51 0 1.02-.2 1.41-.59l7.78-7.78 2.81-2.81c.8-.78.8-2.07 0-2.86zM5.41 20L4 18.59l7.72-7.72 1.47 1.35L5.41 20z\"/>\n",
              "  </svg>\n",
              "      </button>\n",
              "      \n",
              "  <style>\n",
              "    .colab-df-container {\n",
              "      display:flex;\n",
              "      flex-wrap:wrap;\n",
              "      gap: 12px;\n",
              "    }\n",
              "\n",
              "    .colab-df-convert {\n",
              "      background-color: #E8F0FE;\n",
              "      border: none;\n",
              "      border-radius: 50%;\n",
              "      cursor: pointer;\n",
              "      display: none;\n",
              "      fill: #1967D2;\n",
              "      height: 32px;\n",
              "      padding: 0 0 0 0;\n",
              "      width: 32px;\n",
              "    }\n",
              "\n",
              "    .colab-df-convert:hover {\n",
              "      background-color: #E2EBFA;\n",
              "      box-shadow: 0px 1px 2px rgba(60, 64, 67, 0.3), 0px 1px 3px 1px rgba(60, 64, 67, 0.15);\n",
              "      fill: #174EA6;\n",
              "    }\n",
              "\n",
              "    [theme=dark] .colab-df-convert {\n",
              "      background-color: #3B4455;\n",
              "      fill: #D2E3FC;\n",
              "    }\n",
              "\n",
              "    [theme=dark] .colab-df-convert:hover {\n",
              "      background-color: #434B5C;\n",
              "      box-shadow: 0px 1px 3px 1px rgba(0, 0, 0, 0.15);\n",
              "      filter: drop-shadow(0px 1px 2px rgba(0, 0, 0, 0.3));\n",
              "      fill: #FFFFFF;\n",
              "    }\n",
              "  </style>\n",
              "\n",
              "      <script>\n",
              "        const buttonEl =\n",
              "          document.querySelector('#df-078a009d-73eb-4f66-96b5-90feb6e21939 button.colab-df-convert');\n",
              "        buttonEl.style.display =\n",
              "          google.colab.kernel.accessAllowed ? 'block' : 'none';\n",
              "\n",
              "        async function convertToInteractive(key) {\n",
              "          const element = document.querySelector('#df-078a009d-73eb-4f66-96b5-90feb6e21939');\n",
              "          const dataTable =\n",
              "            await google.colab.kernel.invokeFunction('convertToInteractive',\n",
              "                                                     [key], {});\n",
              "          if (!dataTable) return;\n",
              "\n",
              "          const docLinkHtml = 'Like what you see? Visit the ' +\n",
              "            '<a target=\"_blank\" href=https://colab.research.google.com/notebooks/data_table.ipynb>data table notebook</a>'\n",
              "            + ' to learn more about interactive tables.';\n",
              "          element.innerHTML = '';\n",
              "          dataTable['output_type'] = 'display_data';\n",
              "          await google.colab.output.renderOutput(dataTable, element);\n",
              "          const docLink = document.createElement('div');\n",
              "          docLink.innerHTML = docLinkHtml;\n",
              "          element.appendChild(docLink);\n",
              "        }\n",
              "      </script>\n",
              "    </div>\n",
              "  </div>\n",
              "  "
            ]
          },
          "metadata": {},
          "execution_count": 67
        }
      ]
    },
    {
      "cell_type": "code",
      "source": [
        "data.info()"
      ],
      "metadata": {
        "colab": {
          "base_uri": "https://localhost:8080/"
        },
        "id": "5ySc_BFcnwZl",
        "outputId": "70f77b15-2cac-4c0d-d2f2-e7d0a8745520"
      },
      "execution_count": 68,
      "outputs": [
        {
          "output_type": "stream",
          "name": "stdout",
          "text": [
            "<class 'pandas.core.frame.DataFrame'>\n",
            "RangeIndex: 10468 entries, 0 to 10467\n",
            "Data columns (total 2 columns):\n",
            " #   Column  Non-Null Count  Dtype  \n",
            "---  ------  --------------  -----  \n",
            " 0   Date    10468 non-null  object \n",
            " 1   Close   10468 non-null  float64\n",
            "dtypes: float64(1), object(1)\n",
            "memory usage: 163.7+ KB\n"
          ]
        }
      ]
    },
    {
      "cell_type": "code",
      "source": [
        "mae_rate = (data['Close'].max() - data['Close'].min()) * 10/100\n",
        "print(mae_rate)"
      ],
      "metadata": {
        "colab": {
          "base_uri": "https://localhost:8080/"
        },
        "id": "5pCK6fXa0BvH",
        "outputId": "1cb4a19a-2fa7-4a12-c5aa-4c2cf35a7d0e"
      },
      "execution_count": 69,
      "outputs": [
        {
          "output_type": "stream",
          "name": "stdout",
          "text": [
            "18.196088800000002\n"
          ]
        }
      ]
    },
    {
      "cell_type": "code",
      "source": [
        "Date = data['Date'].values\n",
        "Price = data['Close'].values\n",
        "\n",
        "plt.figure(figsize=(20,8))\n",
        "plt.plot(Date, Price)\n",
        "plt.title('Apple Stock Price from 1980 - 2021')\n",
        "plt.xlabel('Date')\n",
        "plt.ylabel('Price')\n",
        "plt.show()"
      ],
      "metadata": {
        "colab": {
          "base_uri": "https://localhost:8080/",
          "height": 490
        },
        "id": "jJUNyeFH1I0s",
        "outputId": "f35b3910-c206-435c-d4ef-7bcf6f4ac1e9"
      },
      "execution_count": 71,
      "outputs": [
        {
          "output_type": "display_data",
          "data": {
            "text/plain": [
              "<Figure size 2000x800 with 1 Axes>"
            ],
            "image/png": "[encoded data removed]"
          },
          "metadata": {}
        }
      ]
    },
    {
      "cell_type": "code",
      "source": [
        "x_train, x_test, y_train, y_test = train_test_split(Price, Date, test_size = 0.2)"
      ],
      "metadata": {
        "id": "U-lcCzPPtrlM"
      },
      "execution_count": 72,
      "outputs": []
    },
    {
      "cell_type": "code",
      "source": [
        "print('Jumlah Data Latih : ',len(x_train))\n",
        "print('Jumah Data Validasi : ',len(x_test))"
      ],
      "metadata": {
        "colab": {
          "base_uri": "https://localhost:8080/"
        },
        "id": "dMJnJtfGvZP6",
        "outputId": "17beaef4-7926-4fac-cf65-e11615def4e2"
      },
      "execution_count": 73,
      "outputs": [
        {
          "output_type": "stream",
          "name": "stdout",
          "text": [
            "Jumlah Data Latih :  8374\n",
            "Jumah Data Validasi :  2094\n"
          ]
        }
      ]
    },
    {
      "cell_type": "code",
      "source": [
        "#  Function untuk mengubah data menjadi dapat dibaca oleh model\n",
        "def windowed_dataset(series, window_size, batch_size, shuffle_buffer):\n",
        "  series = tf.expand_dims(series, axis=-1)\n",
        "  data_series = tf.data.Dataset.from_tensor_slices(series)\n",
        "  data_series = data_series.window(window_size + 1, shift=1, drop_remainder = True)\n",
        "  data_series = data_series.flat_map(lambda w: w.batch(window_size + 1))\n",
        "  data_series = data_series.shuffle(shuffle_buffer)\n",
        "  data_series = data_series.map(lambda w: (w[:-1], w[-1:]))\n",
        "  return data_series.batch(batch_size).prefetch(1)"
      ],
      "metadata": {
        "id": "3Qa_XCZexRmJ"
      },
      "execution_count": 74,
      "outputs": []
    },
    {
      "cell_type": "code",
      "source": [
        "data_training = windowed_dataset(x_train, window_size=64, batch_size=128, shuffle_buffer=1000)\n",
        "data_testing = windowed_dataset(x_test, window_size=64, batch_size=128, shuffle_buffer=1000)"
      ],
      "metadata": {
        "id": "MpieBpA4xfZt"
      },
      "execution_count": 75,
      "outputs": []
    },
    {
      "cell_type": "code",
      "source": [
        "model = tf.keras.models.Sequential([\n",
        "  tf.keras.layers.LSTM(64, return_sequences=True),\n",
        "  tf.keras.layers.LSTM(64),\n",
        "  tf.keras.layers.Dense(30, activation=\"relu\"),\n",
        "  tf.keras.layers.Dropout(0.5),\n",
        "  tf.keras.layers.Dense(10, activation=\"relu\"),\n",
        "  tf.keras.layers.Dropout(0.5),\n",
        "  tf.keras.layers.Dense(1),\n",
        "])"
      ],
      "metadata": {
        "id": "MM58WbeLyJiQ"
      },
      "execution_count": 76,
      "outputs": []
    },
    {
      "cell_type": "code",
      "source": [
        "optimizers = tf.keras.optimizers.SGD(learning_rate=1.0000e-04, momentum=0.9)\n",
        "model.compile(loss=tf.keras.losses.Huber(),\n",
        "              optimizer=optimizers,\n",
        "              metrics=[\"mae\"])\n",
        "model_history = model.fit(\n",
        "    data_training,\n",
        "    epochs=50, \n",
        "    validation_data=data_testing, \n",
        ")"
      ],
      "metadata": {
        "colab": {
          "base_uri": "https://localhost:8080/"
        },
        "id": "f7pBTvXbyuNE",
        "outputId": "b04b95bc-094b-40e3-ee65-9d3fb3a36643"
      },
      "execution_count": 82,
      "outputs": [
        {
          "output_type": "stream",
          "name": "stdout",
          "text": [
            "Epoch 1/50\n",
            "65/65 [==============================] - 23s 297ms/step - loss: 14.3310 - mae: 14.6984 - val_loss: 13.5456 - val_mae: 13.9015\n",
            "Epoch 2/50\n",
            "65/65 [==============================] - 20s 297ms/step - loss: 14.3305 - mae: 14.7042 - val_loss: 13.5425 - val_mae: 13.9032\n",
            "Epoch 3/50\n",
            "65/65 [==============================] - 21s 328ms/step - loss: 14.3199 - mae: 14.6942 - val_loss: 13.5366 - val_mae: 13.9066\n",
            "Epoch 4/50\n",
            "65/65 [==============================] - 20s 305ms/step - loss: 14.3211 - mae: 14.6991 - val_loss: 13.5333 - val_mae: 13.9087\n",
            "Epoch 5/50\n",
            "65/65 [==============================] - 19s 285ms/step - loss: 14.3095 - mae: 14.6901 - val_loss: 13.5296 - val_mae: 13.9114\n",
            "Epoch 6/50\n",
            "65/65 [==============================] - 19s 287ms/step - loss: 14.3094 - mae: 14.6915 - val_loss: 13.5267 - val_mae: 13.9136\n",
            "Epoch 7/50\n",
            "65/65 [==============================] - 19s 293ms/step - loss: 14.3021 - mae: 14.6871 - val_loss: 13.5239 - val_mae: 13.9159\n",
            "Epoch 8/50\n",
            "65/65 [==============================] - 19s 290ms/step - loss: 14.3008 - mae: 14.6890 - val_loss: 13.5223 - val_mae: 13.9173\n",
            "Epoch 9/50\n",
            "65/65 [==============================] - 19s 286ms/step - loss: 14.2996 - mae: 14.6880 - val_loss: 13.5213 - val_mae: 13.9183\n",
            "Epoch 10/50\n",
            "65/65 [==============================] - 18s 276ms/step - loss: 14.2934 - mae: 14.6840 - val_loss: 13.5188 - val_mae: 13.9208\n",
            "Epoch 11/50\n",
            "65/65 [==============================] - 21s 325ms/step - loss: 14.2911 - mae: 14.6825 - val_loss: 13.5167 - val_mae: 13.9229\n",
            "Epoch 12/50\n",
            "65/65 [==============================] - 20s 301ms/step - loss: 14.2888 - mae: 14.6840 - val_loss: 13.5144 - val_mae: 13.9254\n",
            "Epoch 13/50\n",
            "65/65 [==============================] - 19s 285ms/step - loss: 14.2844 - mae: 14.6833 - val_loss: 13.5138 - val_mae: 13.9261\n",
            "Epoch 14/50\n",
            "65/65 [==============================] - 19s 286ms/step - loss: 14.2809 - mae: 14.6831 - val_loss: 13.5125 - val_mae: 13.9277\n",
            "Epoch 15/50\n",
            "65/65 [==============================] - 24s 359ms/step - loss: 14.2800 - mae: 14.6860 - val_loss: 13.5108 - val_mae: 13.9302\n",
            "Epoch 16/50\n",
            "65/65 [==============================] - 20s 309ms/step - loss: 14.2757 - mae: 14.6815 - val_loss: 13.5104 - val_mae: 13.9307\n",
            "Epoch 17/50\n",
            "65/65 [==============================] - 19s 290ms/step - loss: 14.2760 - mae: 14.6839 - val_loss: 13.5094 - val_mae: 13.9322\n",
            "Epoch 18/50\n",
            "65/65 [==============================] - 19s 279ms/step - loss: 14.2752 - mae: 14.6846 - val_loss: 13.5094 - val_mae: 13.9323\n",
            "Epoch 19/50\n",
            "65/65 [==============================] - 18s 279ms/step - loss: 14.2746 - mae: 14.6832 - val_loss: 13.5103 - val_mae: 13.9309\n",
            "Epoch 20/50\n",
            "65/65 [==============================] - 18s 278ms/step - loss: 14.2707 - mae: 14.6811 - val_loss: 13.5090 - val_mae: 13.9329\n",
            "Epoch 21/50\n",
            "65/65 [==============================] - 22s 331ms/step - loss: 14.2671 - mae: 14.6806 - val_loss: 13.5079 - val_mae: 13.9348\n",
            "Epoch 22/50\n",
            "65/65 [==============================] - 18s 273ms/step - loss: 14.2690 - mae: 14.6832 - val_loss: 13.5080 - val_mae: 13.9348\n",
            "Epoch 23/50\n",
            "65/65 [==============================] - 19s 294ms/step - loss: 14.2633 - mae: 14.6770 - val_loss: 13.5070 - val_mae: 13.9369\n",
            "Epoch 24/50\n",
            "65/65 [==============================] - 18s 271ms/step - loss: 14.2663 - mae: 14.6823 - val_loss: 13.5069 - val_mae: 13.9371\n",
            "Epoch 25/50\n",
            "65/65 [==============================] - 20s 307ms/step - loss: 14.2661 - mae: 14.6836 - val_loss: 13.5062 - val_mae: 13.9383\n",
            "Epoch 26/50\n",
            "65/65 [==============================] - 19s 286ms/step - loss: 14.2671 - mae: 14.6851 - val_loss: 13.5074 - val_mae: 13.9360\n",
            "Epoch 27/50\n",
            "65/65 [==============================] - 19s 294ms/step - loss: 14.2605 - mae: 14.6792 - val_loss: 13.5061 - val_mae: 13.9387\n",
            "Epoch 28/50\n",
            "65/65 [==============================] - 22s 332ms/step - loss: 14.2625 - mae: 14.6842 - val_loss: 13.5058 - val_mae: 13.9394\n",
            "Epoch 29/50\n",
            "65/65 [==============================] - 19s 288ms/step - loss: 14.2633 - mae: 14.6866 - val_loss: 13.5056 - val_mae: 13.9399\n",
            "Epoch 30/50\n",
            "65/65 [==============================] - 19s 292ms/step - loss: 14.2602 - mae: 14.6821 - val_loss: 13.5059 - val_mae: 13.9393\n",
            "Epoch 31/50\n",
            "65/65 [==============================] - 19s 287ms/step - loss: 14.2626 - mae: 14.6874 - val_loss: 13.5054 - val_mae: 13.9404\n",
            "Epoch 32/50\n",
            "65/65 [==============================] - 20s 309ms/step - loss: 14.2595 - mae: 14.6844 - val_loss: 13.5053 - val_mae: 13.9407\n",
            "Epoch 33/50\n",
            "65/65 [==============================] - 19s 287ms/step - loss: 14.2577 - mae: 14.6836 - val_loss: 13.5048 - val_mae: 13.9422\n",
            "Epoch 34/50\n",
            "65/65 [==============================] - 21s 311ms/step - loss: 14.2570 - mae: 14.6841 - val_loss: 13.5045 - val_mae: 13.9428\n",
            "Epoch 35/50\n",
            "65/65 [==============================] - 18s 275ms/step - loss: 14.2594 - mae: 14.6868 - val_loss: 13.5044 - val_mae: 13.9432\n",
            "Epoch 36/50\n",
            "65/65 [==============================] - 18s 275ms/step - loss: 14.2557 - mae: 14.6856 - val_loss: 13.5042 - val_mae: 13.9438\n",
            "Epoch 37/50\n",
            "65/65 [==============================] - 21s 324ms/step - loss: 14.2551 - mae: 14.6841 - val_loss: 13.5039 - val_mae: 13.9445\n",
            "Epoch 38/50\n",
            "65/65 [==============================] - 20s 301ms/step - loss: 14.2573 - mae: 14.6893 - val_loss: 13.5041 - val_mae: 13.9442\n",
            "Epoch 39/50\n",
            "65/65 [==============================] - 21s 328ms/step - loss: 14.2575 - mae: 14.6878 - val_loss: 13.5047 - val_mae: 13.9421\n",
            "Epoch 40/50\n",
            "65/65 [==============================] - 20s 309ms/step - loss: 14.2551 - mae: 14.6849 - val_loss: 13.5044 - val_mae: 13.9430\n",
            "Epoch 41/50\n",
            "65/65 [==============================] - 18s 272ms/step - loss: 14.2538 - mae: 14.6836 - val_loss: 13.5041 - val_mae: 13.9441\n",
            "Epoch 42/50\n",
            "65/65 [==============================] - 20s 301ms/step - loss: 14.2522 - mae: 14.6851 - val_loss: 13.5038 - val_mae: 13.9448\n",
            "Epoch 43/50\n",
            "65/65 [==============================] - 18s 275ms/step - loss: 14.2527 - mae: 14.6835 - val_loss: 13.5040 - val_mae: 13.9439\n",
            "Epoch 44/50\n",
            "65/65 [==============================] - 19s 291ms/step - loss: 14.2524 - mae: 14.6857 - val_loss: 13.5036 - val_mae: 13.9458\n",
            "Epoch 45/50\n",
            "65/65 [==============================] - 18s 270ms/step - loss: 14.2484 - mae: 14.6833 - val_loss: 13.5035 - val_mae: 13.9466\n",
            "Epoch 46/50\n",
            "65/65 [==============================] - 22s 332ms/step - loss: 14.2504 - mae: 14.6862 - val_loss: 13.5035 - val_mae: 13.9464\n",
            "Epoch 47/50\n",
            "65/65 [==============================] - 19s 288ms/step - loss: 14.2483 - mae: 14.6839 - val_loss: 13.5034 - val_mae: 13.9470\n",
            "Epoch 48/50\n",
            "65/65 [==============================] - 20s 300ms/step - loss: 14.2531 - mae: 14.6897 - val_loss: 13.5032 - val_mae: 13.9472\n",
            "Epoch 49/50\n",
            "65/65 [==============================] - 18s 274ms/step - loss: 14.2495 - mae: 14.6862 - val_loss: 13.5033 - val_mae: 13.9470\n",
            "Epoch 50/50\n",
            "65/65 [==============================] - 20s 309ms/step - loss: 14.2484 - mae: 14.6854 - val_loss: 13.5033 - val_mae: 13.9470\n"
          ]
        }
      ]
    }
  ]
}